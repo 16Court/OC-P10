{
 "cells": [
  {
   "cell_type": "markdown",
   "id": "5ab296a8",
   "metadata": {},
   "source": [
    "# **Projet 10** : Détecter des faux billets avec Python\n",
    "\n",
    "## **Objectifs :** \n",
    "\n",
    "Lutter contre le faux-monnayage en mettant en place un modèle permettant d'identifier les vrais et faux billets.\n",
    "\n",
    "- Effectuer une régression linéaire ou multiple pour combler les valeurs manquantes dans nos données\n",
    "- Utiliser 2 modèles de prédictions pour détecter les faux billets : méthode des k-means et régression logistique\n",
    "- Selectionner le modèle le plus performant"
   ]
  },
  {
   "cell_type": "code",
   "execution_count": 2,
   "id": "9d87346b",
   "metadata": {},
   "outputs": [],
   "source": [
    "# Basics\n",
    "import numpy as np\n",
    "import pandas as pd\n",
    "import matplotlib.pyplot as plt\n",
    "import seaborn as sns\n",
    "import statsmodels\n",
    "import statsmodels.api as sm\n",
    "import statsmodels.formula.api as smf\n",
    "\n",
    "# Modèles et algorithmes\n",
    "from scipy.stats import shapiro, t, probplot\n",
    "from sklearn.linear_model import LinearRegression\n",
    "from sklearn.feature_selection import f_regression\n",
    "from sklearn.metrics import mean_squared_error, r2_score\n",
    "from sklearn import metrics\n",
    "from sklearn.decomposition import PCA\n",
    "from sklearn.cluster import KMeans\n",
    "from sklearn.preprocessing import StandardScaler\n",
    "from sklearn.metrics import accuracy_score, silhouette_score, precision_score, recall_score, f1_score, confusion_matrix\n",
    "from sklearn.model_selection import train_test_split\n",
    "from sklearn.linear_model import LogisticRegression\n",
    "from sklearn.metrics import classification_report\n",
    "from sklearn.model_selection import StratifiedKFold\n",
    "from statsmodels.stats.outliers_influence import variance_inflation_factor\n",
    "from statsmodels.formula.api import ols\n",
    "\n",
    "# Sauvegarde du modèle\n",
    "from joblib import dump, load"
   ]
  },
  {
   "cell_type": "code",
   "execution_count": 22,
   "id": "a6e46344",
   "metadata": {},
   "outputs": [],
   "source": [
    "# Données à dispostion\n",
    "\n",
    "df = pd.read_csv(\"billets.csv\", sep=\";\")"
   ]
  },
  {
   "cell_type": "code",
   "execution_count": 23,
   "id": "d8be0804",
   "metadata": {},
   "outputs": [
    {
     "data": {
      "text/html": [
       "<div>\n",
       "<style scoped>\n",
       "    .dataframe tbody tr th:only-of-type {\n",
       "        vertical-align: middle;\n",
       "    }\n",
       "\n",
       "    .dataframe tbody tr th {\n",
       "        vertical-align: top;\n",
       "    }\n",
       "\n",
       "    .dataframe thead th {\n",
       "        text-align: right;\n",
       "    }\n",
       "</style>\n",
       "<table border=\"1\" class=\"dataframe\">\n",
       "  <thead>\n",
       "    <tr style=\"text-align: right;\">\n",
       "      <th></th>\n",
       "      <th>is_genuine</th>\n",
       "      <th>diagonal</th>\n",
       "      <th>height_left</th>\n",
       "      <th>height_right</th>\n",
       "      <th>margin_low</th>\n",
       "      <th>margin_up</th>\n",
       "      <th>length</th>\n",
       "    </tr>\n",
       "  </thead>\n",
       "  <tbody>\n",
       "    <tr>\n",
       "      <th>0</th>\n",
       "      <td>True</td>\n",
       "      <td>171.81</td>\n",
       "      <td>104.86</td>\n",
       "      <td>104.95</td>\n",
       "      <td>4.52</td>\n",
       "      <td>2.89</td>\n",
       "      <td>112.83</td>\n",
       "    </tr>\n",
       "    <tr>\n",
       "      <th>1</th>\n",
       "      <td>True</td>\n",
       "      <td>171.46</td>\n",
       "      <td>103.36</td>\n",
       "      <td>103.66</td>\n",
       "      <td>3.77</td>\n",
       "      <td>2.99</td>\n",
       "      <td>113.09</td>\n",
       "    </tr>\n",
       "    <tr>\n",
       "      <th>2</th>\n",
       "      <td>True</td>\n",
       "      <td>172.69</td>\n",
       "      <td>104.48</td>\n",
       "      <td>103.50</td>\n",
       "      <td>4.40</td>\n",
       "      <td>2.94</td>\n",
       "      <td>113.16</td>\n",
       "    </tr>\n",
       "    <tr>\n",
       "      <th>3</th>\n",
       "      <td>True</td>\n",
       "      <td>171.36</td>\n",
       "      <td>103.91</td>\n",
       "      <td>103.94</td>\n",
       "      <td>3.62</td>\n",
       "      <td>3.01</td>\n",
       "      <td>113.51</td>\n",
       "    </tr>\n",
       "    <tr>\n",
       "      <th>4</th>\n",
       "      <td>True</td>\n",
       "      <td>171.73</td>\n",
       "      <td>104.28</td>\n",
       "      <td>103.46</td>\n",
       "      <td>4.04</td>\n",
       "      <td>3.48</td>\n",
       "      <td>112.54</td>\n",
       "    </tr>\n",
       "  </tbody>\n",
       "</table>\n",
       "</div>"
      ],
      "text/plain": [
       "   is_genuine  diagonal  height_left  height_right  margin_low  margin_up  \\\n",
       "0        True    171.81       104.86        104.95        4.52       2.89   \n",
       "1        True    171.46       103.36        103.66        3.77       2.99   \n",
       "2        True    172.69       104.48        103.50        4.40       2.94   \n",
       "3        True    171.36       103.91        103.94        3.62       3.01   \n",
       "4        True    171.73       104.28        103.46        4.04       3.48   \n",
       "\n",
       "   length  \n",
       "0  112.83  \n",
       "1  113.09  \n",
       "2  113.16  \n",
       "3  113.51  \n",
       "4  112.54  "
      ]
     },
     "execution_count": 23,
     "metadata": {},
     "output_type": "execute_result"
    }
   ],
   "source": [
    "df.head()"
   ]
  },
  {
   "cell_type": "code",
   "execution_count": 24,
   "id": "cfdd0282",
   "metadata": {},
   "outputs": [
    {
     "data": {
      "text/plain": [
       "is_genuine        2\n",
       "diagonal        159\n",
       "height_left     155\n",
       "height_right    170\n",
       "margin_low      285\n",
       "margin_up       123\n",
       "length          336\n",
       "dtype: int64"
      ]
     },
     "execution_count": 24,
     "metadata": {},
     "output_type": "execute_result"
    }
   ],
   "source": [
    "# Affiche le nombre de valeurs uniques\n",
    "df.nunique()"
   ]
  },
  {
   "cell_type": "code",
   "execution_count": 25,
   "id": "92050622",
   "metadata": {},
   "outputs": [
    {
     "data": {
      "text/html": [
       "<div>\n",
       "<style scoped>\n",
       "    .dataframe tbody tr th:only-of-type {\n",
       "        vertical-align: middle;\n",
       "    }\n",
       "\n",
       "    .dataframe tbody tr th {\n",
       "        vertical-align: top;\n",
       "    }\n",
       "\n",
       "    .dataframe thead th {\n",
       "        text-align: right;\n",
       "    }\n",
       "</style>\n",
       "<table border=\"1\" class=\"dataframe\">\n",
       "  <thead>\n",
       "    <tr style=\"text-align: right;\">\n",
       "      <th></th>\n",
       "      <th>diagonal</th>\n",
       "      <th>height_left</th>\n",
       "      <th>height_right</th>\n",
       "      <th>margin_low</th>\n",
       "      <th>margin_up</th>\n",
       "      <th>length</th>\n",
       "    </tr>\n",
       "  </thead>\n",
       "  <tbody>\n",
       "    <tr>\n",
       "      <th>count</th>\n",
       "      <td>1500.000000</td>\n",
       "      <td>1500.000000</td>\n",
       "      <td>1500.000000</td>\n",
       "      <td>1463.000000</td>\n",
       "      <td>1500.000000</td>\n",
       "      <td>1500.00000</td>\n",
       "    </tr>\n",
       "    <tr>\n",
       "      <th>mean</th>\n",
       "      <td>171.958440</td>\n",
       "      <td>104.029533</td>\n",
       "      <td>103.920307</td>\n",
       "      <td>4.485967</td>\n",
       "      <td>3.151473</td>\n",
       "      <td>112.67850</td>\n",
       "    </tr>\n",
       "    <tr>\n",
       "      <th>std</th>\n",
       "      <td>0.305195</td>\n",
       "      <td>0.299462</td>\n",
       "      <td>0.325627</td>\n",
       "      <td>0.663813</td>\n",
       "      <td>0.231813</td>\n",
       "      <td>0.87273</td>\n",
       "    </tr>\n",
       "    <tr>\n",
       "      <th>min</th>\n",
       "      <td>171.040000</td>\n",
       "      <td>103.140000</td>\n",
       "      <td>102.820000</td>\n",
       "      <td>2.980000</td>\n",
       "      <td>2.270000</td>\n",
       "      <td>109.49000</td>\n",
       "    </tr>\n",
       "    <tr>\n",
       "      <th>25%</th>\n",
       "      <td>171.750000</td>\n",
       "      <td>103.820000</td>\n",
       "      <td>103.710000</td>\n",
       "      <td>4.015000</td>\n",
       "      <td>2.990000</td>\n",
       "      <td>112.03000</td>\n",
       "    </tr>\n",
       "    <tr>\n",
       "      <th>50%</th>\n",
       "      <td>171.960000</td>\n",
       "      <td>104.040000</td>\n",
       "      <td>103.920000</td>\n",
       "      <td>4.310000</td>\n",
       "      <td>3.140000</td>\n",
       "      <td>112.96000</td>\n",
       "    </tr>\n",
       "    <tr>\n",
       "      <th>75%</th>\n",
       "      <td>172.170000</td>\n",
       "      <td>104.230000</td>\n",
       "      <td>104.150000</td>\n",
       "      <td>4.870000</td>\n",
       "      <td>3.310000</td>\n",
       "      <td>113.34000</td>\n",
       "    </tr>\n",
       "    <tr>\n",
       "      <th>max</th>\n",
       "      <td>173.010000</td>\n",
       "      <td>104.880000</td>\n",
       "      <td>104.950000</td>\n",
       "      <td>6.900000</td>\n",
       "      <td>3.910000</td>\n",
       "      <td>114.44000</td>\n",
       "    </tr>\n",
       "  </tbody>\n",
       "</table>\n",
       "</div>"
      ],
      "text/plain": [
       "          diagonal  height_left  height_right   margin_low    margin_up  \\\n",
       "count  1500.000000  1500.000000   1500.000000  1463.000000  1500.000000   \n",
       "mean    171.958440   104.029533    103.920307     4.485967     3.151473   \n",
       "std       0.305195     0.299462      0.325627     0.663813     0.231813   \n",
       "min     171.040000   103.140000    102.820000     2.980000     2.270000   \n",
       "25%     171.750000   103.820000    103.710000     4.015000     2.990000   \n",
       "50%     171.960000   104.040000    103.920000     4.310000     3.140000   \n",
       "75%     172.170000   104.230000    104.150000     4.870000     3.310000   \n",
       "max     173.010000   104.880000    104.950000     6.900000     3.910000   \n",
       "\n",
       "           length  \n",
       "count  1500.00000  \n",
       "mean    112.67850  \n",
       "std       0.87273  \n",
       "min     109.49000  \n",
       "25%     112.03000  \n",
       "50%     112.96000  \n",
       "75%     113.34000  \n",
       "max     114.44000  "
      ]
     },
     "execution_count": 25,
     "metadata": {},
     "output_type": "execute_result"
    }
   ],
   "source": [
    "df.describe()"
   ]
  },
  {
   "cell_type": "markdown",
   "id": "a8773cfa",
   "metadata": {},
   "source": [
    "Notre dataframe **df** contient : \n",
    "- **1500 billets**, un par ligne\n",
    "- **7 variables** différentes :\n",
    "    - la variable **\"is_genuine\"** de type booléen pour spécifier **l'authenticité d'un billet** (True ou False)\n",
    "    - **6 autres variables numériques (Float)** indiquant les mesures et dimensions des billets"
   ]
  },
  {
   "cell_type": "code",
   "execution_count": 26,
   "id": "f2c1c7b5",
   "metadata": {},
   "outputs": [
    {
     "data": {
      "text/plain": [
       "is_genuine       0\n",
       "diagonal         0\n",
       "height_left      0\n",
       "height_right     0\n",
       "margin_low      37\n",
       "margin_up        0\n",
       "length           0\n",
       "dtype: int64"
      ]
     },
     "execution_count": 26,
     "metadata": {},
     "output_type": "execute_result"
    }
   ],
   "source": [
    "# Affiche le nombre de valeurs manquantes\n",
    "df.isna().sum()"
   ]
  },
  {
   "cell_type": "markdown",
   "id": "39862c06",
   "metadata": {},
   "source": [
    "Il manque **37** valeurs dans la colonne **'margin_low'**.\n",
    "\n",
    "\n",
    "Ces **valeurs manquantes** seront traitées à l'aide d'une **regression linéaire** simple ou multiple, cela reste à déterminer.\n",
    "\n",
    "Au vue du nombre de variables que contient le dataframe et de leur relation potentielle entre elles (dimensions, mesures), nous partiront sur **la régression linéaire multiple**."
   ]
  },
  {
   "cell_type": "code",
   "execution_count": 27,
   "id": "a49bf3eb",
   "metadata": {},
   "outputs": [
    {
     "data": {
      "text/html": [
       "<div>\n",
       "<style scoped>\n",
       "    .dataframe tbody tr th:only-of-type {\n",
       "        vertical-align: middle;\n",
       "    }\n",
       "\n",
       "    .dataframe tbody tr th {\n",
       "        vertical-align: top;\n",
       "    }\n",
       "\n",
       "    .dataframe thead th {\n",
       "        text-align: right;\n",
       "    }\n",
       "</style>\n",
       "<table border=\"1\" class=\"dataframe\">\n",
       "  <thead>\n",
       "    <tr style=\"text-align: right;\">\n",
       "      <th></th>\n",
       "      <th>is_genuine</th>\n",
       "      <th>diagonal</th>\n",
       "      <th>height_left</th>\n",
       "      <th>height_right</th>\n",
       "      <th>margin_low</th>\n",
       "      <th>margin_up</th>\n",
       "      <th>length</th>\n",
       "    </tr>\n",
       "  </thead>\n",
       "  <tbody>\n",
       "    <tr>\n",
       "      <th>0</th>\n",
       "      <td>1</td>\n",
       "      <td>171.81</td>\n",
       "      <td>104.86</td>\n",
       "      <td>104.95</td>\n",
       "      <td>4.52</td>\n",
       "      <td>2.89</td>\n",
       "      <td>112.83</td>\n",
       "    </tr>\n",
       "    <tr>\n",
       "      <th>1</th>\n",
       "      <td>1</td>\n",
       "      <td>171.46</td>\n",
       "      <td>103.36</td>\n",
       "      <td>103.66</td>\n",
       "      <td>3.77</td>\n",
       "      <td>2.99</td>\n",
       "      <td>113.09</td>\n",
       "    </tr>\n",
       "    <tr>\n",
       "      <th>2</th>\n",
       "      <td>1</td>\n",
       "      <td>172.69</td>\n",
       "      <td>104.48</td>\n",
       "      <td>103.50</td>\n",
       "      <td>4.40</td>\n",
       "      <td>2.94</td>\n",
       "      <td>113.16</td>\n",
       "    </tr>\n",
       "    <tr>\n",
       "      <th>3</th>\n",
       "      <td>1</td>\n",
       "      <td>171.36</td>\n",
       "      <td>103.91</td>\n",
       "      <td>103.94</td>\n",
       "      <td>3.62</td>\n",
       "      <td>3.01</td>\n",
       "      <td>113.51</td>\n",
       "    </tr>\n",
       "    <tr>\n",
       "      <th>4</th>\n",
       "      <td>1</td>\n",
       "      <td>171.73</td>\n",
       "      <td>104.28</td>\n",
       "      <td>103.46</td>\n",
       "      <td>4.04</td>\n",
       "      <td>3.48</td>\n",
       "      <td>112.54</td>\n",
       "    </tr>\n",
       "  </tbody>\n",
       "</table>\n",
       "</div>"
      ],
      "text/plain": [
       "   is_genuine  diagonal  height_left  height_right  margin_low  margin_up  \\\n",
       "0           1    171.81       104.86        104.95        4.52       2.89   \n",
       "1           1    171.46       103.36        103.66        3.77       2.99   \n",
       "2           1    172.69       104.48        103.50        4.40       2.94   \n",
       "3           1    171.36       103.91        103.94        3.62       3.01   \n",
       "4           1    171.73       104.28        103.46        4.04       3.48   \n",
       "\n",
       "   length  \n",
       "0  112.83  \n",
       "1  113.09  \n",
       "2  113.16  \n",
       "3  113.51  \n",
       "4  112.54  "
      ]
     },
     "execution_count": 27,
     "metadata": {},
     "output_type": "execute_result"
    }
   ],
   "source": [
    "# Transformer la colonne 'is_genuine' en valeur numérique\n",
    "df['is_genuine'] = df['is_genuine'] * 1\n",
    "\n",
    "df.head()"
   ]
  },
  {
   "cell_type": "markdown",
   "id": "84af0b14",
   "metadata": {},
   "source": [
    "**'is_genuine'** est converti en valeur numérique avec **1 = Vrai**, **0 = Faux**."
   ]
  },
  {
   "cell_type": "markdown",
   "id": "a49e5c2f",
   "metadata": {},
   "source": [
    "### Regression linéaire\n",
    "\n",
    "Nous retirerons du modèle **chaque variable ayant une P-valeur >0,05** car elles ne sont **pas statistiquement significative**, en commençant par la plus élevée.\n",
    "\n",
    "Elles n'ont **aucun impact** sur la **prédiction de 'margin_low'**."
   ]
  },
  {
   "cell_type": "code",
   "execution_count": 28,
   "id": "2256016b",
   "metadata": {},
   "outputs": [
    {
     "name": "stdout",
     "output_type": "stream",
     "text": [
      "\n",
      "Variable exclue : length avec p-value 0.8685\n",
      "Variables restantes : ['is_genuine', 'diagonal', 'height_left', 'height_right', 'margin_up']\n",
      "\n",
      "\n",
      "Variable exclue : diagonal avec p-value 0.7191\n",
      "Variables restantes : ['is_genuine', 'height_left', 'height_right', 'margin_up']\n",
      "\n",
      "\n",
      "Variable exclue : height_right avec p-value 0.4960\n",
      "Variables restantes : ['is_genuine', 'height_left', 'margin_up']\n",
      "\n",
      "\n",
      "Variable exclue : height_left avec p-value 0.4544\n",
      "Variables restantes : ['is_genuine', 'margin_up']\n",
      "\n",
      "                            OLS Regression Results                            \n",
      "==============================================================================\n",
      "Dep. Variable:             margin_low   R-squared:                       0.617\n",
      "Model:                            OLS   Adj. R-squared:                  0.616\n",
      "Method:                 Least Squares   F-statistic:                     1174.\n",
      "Date:                Wed, 17 Jan 2024   Prob (F-statistic):          1.24e-304\n",
      "Time:                        20:59:44   Log-Likelihood:                -774.73\n",
      "No. Observations:                1463   AIC:                             1555.\n",
      "Df Residuals:                    1460   BIC:                             1571.\n",
      "Df Model:                           2                                         \n",
      "Covariance Type:            nonrobust                                         \n",
      "==============================================================================\n",
      "                 coef    std err          t      P>|t|      [0.025      0.975]\n",
      "------------------------------------------------------------------------------\n",
      "Intercept      5.9263      0.198     30.003      0.000       5.539       6.314\n",
      "is_genuine    -1.1632      0.029    -40.477      0.000      -1.220      -1.107\n",
      "margin_up     -0.2119      0.059     -3.612      0.000      -0.327      -0.097\n",
      "==============================================================================\n",
      "Omnibus:                       22.365   Durbin-Watson:                   2.041\n",
      "Prob(Omnibus):                  0.000   Jarque-Bera (JB):               39.106\n",
      "Skew:                           0.057   Prob(JB):                     3.22e-09\n",
      "Kurtosis:                       3.793   Cond. No.                         65.0\n",
      "==============================================================================\n",
      "\n",
      "Notes:\n",
      "[1] Standard Errors assume that the covariance matrix of the errors is correctly specified.\n"
     ]
    }
   ],
   "source": [
    "def backward_elimination(data, response, p_value_threshold=0.05):\n",
    "    features = data.columns.drop(response)\n",
    "    while len(features) > 0:\n",
    "        features_to_test = '+'.join(features)\n",
    "        formula = f\"{response} ~ {features_to_test}\"\n",
    "        model = ols(formula, data=data).fit()\n",
    "\n",
    "        # Excluez l'intercept des résultats p-value\n",
    "        p_values = model.pvalues.drop('Intercept')\n",
    "\n",
    "        max_p_value = p_values.max()  # get the variable with the highest p-value\n",
    "        if max_p_value >= p_value_threshold:\n",
    "            excluded_feature = p_values.idxmax()\n",
    "            features = features.drop(excluded_feature)\n",
    "            print(f\"\\nVariable exclue : {excluded_feature} avec p-value {max_p_value:.4f}\")\n",
    "            print(f\"Variables restantes : {features.to_list()}\\n\")\n",
    "        else:\n",
    "            break\n",
    "    \n",
    "    final_features_to_test = '+'.join(features)\n",
    "    final_formula = f\"{response} ~ {final_features_to_test}\"\n",
    "    final_model = ols(final_formula, data=data).fit()\n",
    "    \n",
    "    return final_model\n",
    "\n",
    "model = backward_elimination(df, 'margin_low')\n",
    "print(model.summary())"
   ]
  },
  {
   "cell_type": "markdown",
   "id": "9ab44471",
   "metadata": {},
   "source": [
    "Après avoir **simplifier le modèle de regression linéaire multiple** et **améliorer sa précision**, nous gardons uniquement les variables : **'margin_up'** et **'is_genuine'** pour **prédire les valeurs manquantes de 'margin_low'**."
   ]
  },
  {
   "cell_type": "markdown",
   "id": "3f678cf4",
   "metadata": {},
   "source": [
    "### Analyse des résidus \n",
    "\n",
    "L'analyse des résidus est **cruciale dans la modélisation de régression** car elle permet **d'évaluer la qualité de l'ajustement du modèle aux données** et **d'identifier d'éventuelles violations des hypothèses** de la régression linéaire."
   ]
  },
  {
   "cell_type": "code",
   "execution_count": 29,
   "id": "ba1d1f58",
   "metadata": {},
   "outputs": [
    {
     "name": "stdout",
     "output_type": "stream",
     "text": [
      "                            OLS Regression Results                            \n",
      "==============================================================================\n",
      "Dep. Variable:             margin_low   R-squared:                       0.617\n",
      "Model:                            OLS   Adj. R-squared:                  0.616\n",
      "Method:                 Least Squares   F-statistic:                     1174.\n",
      "Date:                Wed, 17 Jan 2024   Prob (F-statistic):          1.24e-304\n",
      "Time:                        20:59:49   Log-Likelihood:                -774.73\n",
      "No. Observations:                1463   AIC:                             1555.\n",
      "Df Residuals:                    1460   BIC:                             1571.\n",
      "Df Model:                           2                                         \n",
      "Covariance Type:            nonrobust                                         \n",
      "==============================================================================\n",
      "                 coef    std err          t      P>|t|      [0.025      0.975]\n",
      "------------------------------------------------------------------------------\n",
      "Intercept      5.9263      0.198     30.003      0.000       5.539       6.314\n",
      "is_genuine    -1.1632      0.029    -40.477      0.000      -1.220      -1.107\n",
      "margin_up     -0.2119      0.059     -3.612      0.000      -0.327      -0.097\n",
      "==============================================================================\n",
      "Omnibus:                       22.365   Durbin-Watson:                   2.041\n",
      "Prob(Omnibus):                  0.000   Jarque-Bera (JB):               39.106\n",
      "Skew:                           0.057   Prob(JB):                     3.22e-09\n",
      "Kurtosis:                       3.793   Cond. No.                         65.0\n",
      "==============================================================================\n",
      "\n",
      "Notes:\n",
      "[1] Standard Errors assume that the covariance matrix of the errors is correctly specified.\n"
     ]
    }
   ],
   "source": [
    "# Reprenons notre régression linéaire multiple \n",
    "\n",
    "print(model.summary())"
   ]
  },
  {
   "cell_type": "code",
   "execution_count": 30,
   "id": "478daee8",
   "metadata": {},
   "outputs": [],
   "source": [
    "# Nous allons ici réaliser les tests à un niveau 𝛼 = 5%\n",
    "\n",
    "alpha = 0.05\n",
    "\n",
    "# Récupérons n, le nombre d'individus de l'échantillon, et p, le nombre de variables.\n",
    "# Ainsi que n_obs, le nombre d'observations\n",
    "\n",
    "n = df.shape[0]\n",
    "n_obs = model.nobs\n",
    "p = 3"
   ]
  },
  {
   "cell_type": "markdown",
   "id": "748137fa",
   "metadata": {},
   "source": [
    "Nous allons mener des analyses sur **les valeurs atypiques et/ou influentes** en travaillant sur un dataframe appelé  **analyses**."
   ]
  },
  {
   "cell_type": "code",
   "execution_count": 31,
   "id": "a57b4c2c",
   "metadata": {},
   "outputs": [],
   "source": [
    "analyses = pd.DataFrame({'obs':np.arange(1, n_obs+1)})"
   ]
  },
  {
   "cell_type": "markdown",
   "id": "1ebb06c8",
   "metadata": {},
   "source": [
    "#### Calcul des leviers\n",
    "\n",
    "On peut calculer les leviers comme ceci, en sachant que le seuil des leviers est de $2∗\\frac{p}{n}$."
   ]
  },
  {
   "cell_type": "markdown",
   "id": "f6ae7adf",
   "metadata": {},
   "source": [
    "- Les observations avec des valeurs de levier élevées sont celles qui ont une influence disproportionnée sur l'ajustement du modèle.\n",
    "- Comme règle générale, une valeur de levier qui dépasse le seuil est considérée comme potentiellement influente.\n",
    "- Si vous identifiez des observations avec un levier élevé, vous voudrez peut-être les examiner de plus près pour déterminer si elles sont des valeurs aberrantes ou si elles exercent une influence indue sur le modèle."
   ]
  },
  {
   "cell_type": "code",
   "execution_count": 32,
   "id": "2e6f0571",
   "metadata": {},
   "outputs": [],
   "source": [
    "analyses['levier'] = model.get_influence().hat_matrix_diag\n",
    "\n",
    "seuil_levier = 2*p/n"
   ]
  },
  {
   "cell_type": "code",
   "execution_count": 33,
   "id": "d55e4f92",
   "metadata": {},
   "outputs": [
    {
     "data": {
      "image/png": "[encoded data removed]",
      "text/plain": [
       "<Figure size 864x432 with 1 Axes>"
      ]
     },
     "metadata": {
      "needs_background": "light"
     },
     "output_type": "display_data"
    }
   ],
   "source": [
    "plt.figure(figsize=(12,6))\n",
    "plt.bar(analyses['obs'], analyses['levier'])\n",
    "plt.xticks(np.arange(0, n_obs, step=200))\n",
    "plt.xlabel('Observation')\n",
    "plt.ylabel('Leviers')\n",
    "plt.plot([0, n_obs], [seuil_levier, seuil_levier], color='r')\n",
    "plt.show()"
   ]
  },
  {
   "cell_type": "markdown",
   "id": "991c87ee",
   "metadata": {},
   "source": [
    "#### Calcul des résidus studentisés\n",
    "\n",
    "Les résidus studentisés sont une version standardisée des résidus qui permettent de détecter des observations qui ont un comportement anormal par rapport à l'ajustement du modèle.\n",
    "\n",
    "Si l'on souhaite maintenant les calculer, nous écrivons ceci, sachant que le seuil pour les résidus studentisés est une loi de Student à n-p-1 degrés de liberté"
   ]
  },
  {
   "cell_type": "code",
   "execution_count": 34,
   "id": "36c1af91",
   "metadata": {},
   "outputs": [],
   "source": [
    "analyses['rstudent'] = model.get_influence().resid_studentized_internal\n",
    "seuil_rstudent = t.ppf(1-alpha/2,n-p-1)"
   ]
  },
  {
   "cell_type": "code",
   "execution_count": 35,
   "id": "0cfc30ef",
   "metadata": {},
   "outputs": [
    {
     "data": {
      "image/png": "[encoded data removed]",
      "text/plain": [
       "<Figure size 720x432 with 1 Axes>"
      ]
     },
     "metadata": {
      "needs_background": "light"
     },
     "output_type": "display_data"
    }
   ],
   "source": [
    "plt.figure(figsize=(10,6))\n",
    "plt.bar(analyses['obs'], analyses['rstudent'])\n",
    "plt.xticks(np.arange(0, n_obs, step=200))\n",
    "plt.xlabel('Observation')\n",
    "plt.ylabel('Résidus studentisés')\n",
    "plt.plot([0, n_obs], [seuil_rstudent, seuil_rstudent], color='r')\n",
    "plt.plot([0, n_obs], [-seuil_rstudent, -seuil_rstudent], color='r')\n",
    "plt.show()"
   ]
  },
  {
   "cell_type": "markdown",
   "id": "5d23b9fe",
   "metadata": {},
   "source": [
    "**Différences intrinsèques** : Si les faux billets ont des caractéristiques géométriques qui diffèrent systématiquement des vrais billets, et que ces caractéristiques ne sont pas complètement capturées par les variables incluses dans le modèle, les résidus pour ces observations pourraient naturellement être plus élevés.\n",
    "\n",
    "**Modèle sous-spécifié** : Le modèle peut ne pas inclure toutes les variables pertinentes qui expliquent 'margin_low' pour les faux billets. Il peut y avoir d'autres facteurs non mesurés ou non inclus qui influencent 'margin_low' différemment pour les faux billets.\n",
    "\n",
    "**Échantillon hétérogène** : Si les faux billets constituent un échantillon hétérogène avec une plus grande variance dans les caractéristiques mesurées, cela peut également entraîner des résidus plus élevés car le modèle est basé sur des moyennes et pourrait ne pas bien saisir cette variabilité."
   ]
  },
  {
   "cell_type": "markdown",
   "id": "85fc9999",
   "metadata": {},
   "source": [
    "#### Calcul de la distance de Cook\n"
   ]
  },
  {
   "cell_type": "code",
   "execution_count": 36,
   "id": "4abfac6e",
   "metadata": {},
   "outputs": [],
   "source": [
    "influence = model.get_influence().summary_frame()"
   ]
  },
  {
   "cell_type": "markdown",
   "id": "d93eadd8",
   "metadata": {},
   "source": [
    "Le seuil de la distance de Cook est de n-p. "
   ]
  },
  {
   "cell_type": "code",
   "execution_count": 37,
   "id": "a0967448",
   "metadata": {},
   "outputs": [],
   "source": [
    "analyses['dcooks'] = influence['cooks_d']\n",
    "seuil_dcook = 4/(n-p)"
   ]
  },
  {
   "cell_type": "code",
   "execution_count": 38,
   "id": "7e5f2112",
   "metadata": {
    "scrolled": false
   },
   "outputs": [
    {
     "data": {
      "image/png": "[encoded data removed]",
      "text/plain": [
       "<Figure size 864x432 with 1 Axes>"
      ]
     },
     "metadata": {
      "needs_background": "light"
     },
     "output_type": "display_data"
    }
   ],
   "source": [
    "plt.figure(figsize=(12,6))\n",
    "plt.bar(analyses['obs'], analyses['dcooks'])\n",
    "plt.xticks(np.arange(0, n_obs, step=200))\n",
    "plt.xlabel('Observation')\n",
    "plt.ylabel('Leviers')\n",
    "plt.plot([0, n_obs], [seuil_dcook, seuil_dcook], color='r')\n",
    "plt.show()"
   ]
  },
  {
   "cell_type": "markdown",
   "id": "91aa3b48",
   "metadata": {},
   "source": [
    "#### Vérifier la colinéarité des variables"
   ]
  },
  {
   "cell_type": "code",
   "execution_count": 39,
   "id": "9a732768",
   "metadata": {},
   "outputs": [
    {
     "data": {
      "text/plain": [
       "[1.5938854494007753, 1.5938854494007746]"
      ]
     },
     "execution_count": 39,
     "metadata": {},
     "output_type": "execute_result"
    }
   ],
   "source": [
    "variables = model.model.exog\n",
    "[variance_inflation_factor(variables, i) for i in np.arange(1,variables.shape[1])]"
   ]
  },
  {
   "cell_type": "markdown",
   "id": "40d1b078",
   "metadata": {},
   "source": [
    "Ici, tous les coefficients sont **inférieurs à 10**, il n'y a donc **pas de problème de colinéarité**."
   ]
  },
  {
   "cell_type": "markdown",
   "id": "eec84da0",
   "metadata": {},
   "source": [
    "#### Testez l’homoscédasticité"
   ]
  },
  {
   "cell_type": "markdown",
   "id": "43142906",
   "metadata": {},
   "source": [
    "Vérifions **l'homoscédasticité** (c'est-à-dire la constance de la variance) de nos résidus avec le **test de Breusch-Pagan**\n",
    "\n",
    "Nos hypothèses sont les suivantes : \n",
    "\n",
    "- Hypothèse nulle (***H0***) : Il n'y a **pas d'hétéroscédasticité** (c'est-à-dire, la variance des résidus est constante).\n",
    "- Hypothèse alternative (***H1***) : Il y a de l'**hétéroscédasticité** (c'est-à-dire, la variance des résidus varie avec les niveaux de la variable indépendante ou les prédictions)."
   ]
  },
  {
   "cell_type": "code",
   "execution_count": 21,
   "id": "899db45c",
   "metadata": {},
   "outputs": [
    {
     "name": "stdout",
     "output_type": "stream",
     "text": [
      "p value test Breusch Pagan: 3.203355911585938e-36\n"
     ]
    }
   ],
   "source": [
    "_, pval, __, f_pval = statsmodels.stats.diagnostic.het_breuschpagan(model.resid, variables)\n",
    "print('p value test Breusch Pagan:', pval)"
   ]
  }
 ],
 "metadata": {
  "kernelspec": {
   "display_name": "Python 3 (ipykernel)",
   "language": "python",
   "name": "python3"
  },
  "language_info": {
   "codemirror_mode": {
    "name": "ipython",
    "version": 3
   },
   "file_extension": ".py",
   "mimetype": "text/x-python",
   "name": "python",
   "nbconvert_exporter": "python",
   "pygments_lexer": "ipython3",
   "version": "3.8.10"
  }
 },
 "nbformat": 4,
 "nbformat_minor": 5
}
